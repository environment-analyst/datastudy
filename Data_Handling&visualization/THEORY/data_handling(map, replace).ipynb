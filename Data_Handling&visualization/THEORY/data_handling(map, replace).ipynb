{
 "cells": [
  {
   "cell_type": "markdown",
   "id": "73087f5a",
   "metadata": {},
   "source": [
    "# map, apply, applymap\n",
    "\n",
    "|함수|series|dataframe|ex|\n",
    "|----|:------:|:----------:|:--|\n",
    "|map|O|X|df[\"컬럼명\"].map(함수 or dict)|\n",
    "|apply|O|X|df.apply(함수)|\n",
    "|applymap|X|O|df.applymap(함수)|\n"
   ]
  },
  {
   "cell_type": "markdown",
   "id": "250d76ec",
   "metadata": {},
   "source": [
    "# groupby - grouped\n",
    "\n",
    "|함수|기능|ex|\n",
    "|----|:----:|:---|\n",
    "|agg()|요약된 통계정보|grouped.agg({'B':'mean'})|\n",
    "|transform()|해당 정보 변환|grouped.transform()|\n",
    "|filter()|특정 저오 필터링|grouped.filter(lambda x:x[\"B\"].mear()>3)\n",
    "\n"
   ]
  },
  {
   "cell_type": "markdown",
   "id": "4a3d034e",
   "metadata": {},
   "source": [
    "# groupby()\n",
    "\n",
    "##  pd.pivot_table()\n",
    "> 내부가 groupby로 되어 있습니다.</br>\n",
    "> 그렇기 때문에 groupby로 할 수 있는 것은 pivot_table로도 대부분 가능합니다.\n",
    "\n",
    "## pd.crosstab()\n",
    ">내부가 pivot_table로 되어 있습니다.</br>\n",
    "> 교차 테이블을 만들 때 crosstab() 이 좀 더 간단한 사용법(API)을 제공합니다."
   ]
  },
  {
   "cell_type": "markdown",
   "id": "808b2f3b",
   "metadata": {},
   "source": [
    "# 대용량 데이터 시각화\n",
    "\n",
    "* 100만개가 넘는 데이터를 시각화할 때는 되도록이면 -> groupby, pivot_table로 연.산. 후. 시각화\n",
    "\n",
    "* 100만개가 넘는 데이터를 바로 seaborn과 같은 고급 통계 연산을 하는 그래프르 사용 -> 엄청 느림!!!!!!!"
   ]
  },
  {
   "cell_type": "markdown",
   "id": "098f45f2",
   "metadata": {},
   "source": [
    "# 시각화 로그 제거하기\n",
    "\n",
    "1. 사용하지 않는 변수에 할당</br>\n",
    "```\n",
    "_=df.hist()\n",
    "```\n",
    "</br>\n",
    "\n",
    "2. 마지막 줄에 plt.show() 작성</br>\n",
    "```\n",
    "df=hist()\n",
    "plt.show()\n",
    "```\n",
    "</br>\n",
    "\n",
    "3. 코드 마지막에 ; 작성 </br>\n",
    "```\n",
    "df.hist()\n",
    "```"
   ]
  },
  {
   "cell_type": "markdown",
   "id": "0044d670",
   "metadata": {},
   "source": [
    "# replace()\n",
    "\n",
    "\n",
    "> 데이터를 제공된 딕셔너리 데이터로 변경할 수 있다.\n",
    "```python 예시\n",
    "gender_code = {\"여성\":0, \"남성\":1}\n",
    "\n",
    "df_gender = df.raplace({\"성별\" : gender_code})\n",
    "\n",
    "df_gender = df_gender.rename(columns = {\"성별\" :\"성별코드\"})\n",
    "```\n",
    "\n"
   ]
  },
  {
   "cell_type": "markdown",
   "id": "89a84d8d",
   "metadata": {},
   "source": [
    "# map()\n",
    "\n",
    ">위와 같은 변환(replace활용변환)을 map을 이용해서 함\n",
    "\n",
    "```\n",
    "gender_code = {\"여성\":0, \"남성\":1}\n",
    "\n",
    "df[\"성별코드\"] = df[\"성별\"].map(gender_code)\n",
    "```"
   ]
  },
  {
   "cell_type": "code",
   "execution_count": null,
   "id": "3af3e94f",
   "metadata": {},
   "outputs": [],
   "source": []
  }
 ],
 "metadata": {
  "kernelspec": {
   "display_name": "Python 3 (ipykernel)",
   "language": "python",
   "name": "python3"
  },
  "language_info": {
   "codemirror_mode": {
    "name": "ipython",
    "version": 3
   },
   "file_extension": ".py",
   "mimetype": "text/x-python",
   "name": "python",
   "nbconvert_exporter": "python",
   "pygments_lexer": "ipython3",
   "version": "3.8.13"
  },
  "toc": {
   "base_numbering": 1,
   "nav_menu": {},
   "number_sections": true,
   "sideBar": true,
   "skip_h1_title": false,
   "title_cell": "Table of Contents",
   "title_sidebar": "Contents",
   "toc_cell": false,
   "toc_position": {},
   "toc_section_display": true,
   "toc_window_display": false
  }
 },
 "nbformat": 4,
 "nbformat_minor": 5
}
