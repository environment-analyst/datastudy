{
 "cells": [
  {
   "cell_type": "markdown",
   "id": "7b91b9bd",
   "metadata": {},
   "source": [
    "# .plot.bar() or .plot.barh() 그래프를 그릴 수 있음\n",
    "\n",
    "# .plot.barh() 가로로 그래프를 그림\n",
    "\n",
    "# 나이가 적은 순으로 정렬 -> data.sort_values(\"정렬원하는 컬럼이름\")으로 정리\n",
    "\n",
    "# countplot 그래프에 제목을 설정해주고 싶음 -> countplot().set_title(question[\"Q1\"]) 으로 \n",
    "\n",
    "# 한개의 변수의 빈도 -> 데이터프레임[\"컬럼이름\"].value_counts()\n",
    "# 두 개의 변수의 빈도 -> pd.crosstab(answer[\"Q1\"],answer[\"Q2\"])\n",
    "\n",
    "# 정렬에는 \n",
    "1)데이터프래임[[\"컬럼명\"]].sort_index(),\n",
    "2) 데이터프레임[[\"컬럼명\"]].sort_values()값이 있다\n",
    "\n",
    "# 1) .sort_index() : 인덱스명으로 정렬 (행 명) -> .sort_values(ascending=False) : 반대로 정렬\n",
    "\n",
    "# 2) .soer_values() : 컬럼의 값으로 정렬\n",
    "#\n",
    "# .sort_values(\"어떤값을 기준으로 정렬 하는지 입력\n",
    "\n",
    "# answer[\"Q1\"].value_counts().sort_values().index 는 series 형태 이므로\n",
    "# .tolist()를 사용하여 list 형태로 변환시켜줌 -> order에 사용하기 위해서 in sns\n",
    "\n",
    "# sns.(palette=\"Blues_r\") 가장 많이 씀"
   ]
  },
  {
   "cell_type": "code",
   "execution_count": null,
   "id": "7d11926f",
   "metadata": {},
   "outputs": [],
   "source": [
    "question.filter(regex=\"Q7\") # .filter(\"Q7\") : 정확히 \"Q7\"을 포함하는 항목만 가져옴"
   ]
  },
  {
   "cell_type": "markdown",
   "id": "1a20d595",
   "metadata": {},
   "source": [
    "# .filter(regex=\"Q7\")을 사용하면 Q7을 포함하는 항목도 가져옴\n",
    "\n",
    "# isnull() : null 인 값만 true 로 반환\n",
    "# notnull() : null 인 값을 False 로 반환\n",
    "\n",
    "# describe _ top : 빈번하게 등장하는 \n",
    "# unique : 여기서 나오는 값의 종류 -> 위의 데이터에서는 단일값으로 나옴\n",
    "\n",
    "# count, frequency : 결측치에 대한 데이터\n",
    "# frequency : 가장 많이 등장하는 값의 빈도수\n",
    "\n",
    "# 컬럼으로 가져올 때는 대괄호 [] 로 인덱싱\n",
    "# 행으로 가져올 때는 .loc[\"인덱스명으로 입력\"] 로 인덱싱 \n",
    "\n",
    "# .set_index 를 이용하여 인덱스를 지정해줄 수 있다\n",
    "# -> 단, 컬럼만 가능하다"
   ]
  },
  {
   "cell_type": "code",
   "execution_count": 1,
   "id": "c6c91083",
   "metadata": {},
   "outputs": [],
   "source": [
    "# 위에서 regex=\"Q7|Q2$\" 표시는 Q7와 Q2를 포한하는 것을 가져와라\n",
    "# Q2 와 Q29 처럼 Q2를 포함하는 모든 문자의 컬럼을 가져오므로 \n",
    "# Q2$를 사용하여 Q2만 가져오게함"
   ]
  },
  {
   "cell_type": "code",
   "execution_count": 2,
   "id": "b0a85c89",
   "metadata": {},
   "outputs": [],
   "source": [
    "# x축의 기준을 바꾸고 싶을 때는 .T를 이용하여 그래프를 그린다\n",
    "# 정렬하려고 할 때 .sort_values()는 .T 이후에 한다 \n",
    "# .T.sort_values()"
   ]
  },
  {
   "cell_type": "code",
   "execution_count": 3,
   "id": "dfe7892d",
   "metadata": {},
   "outputs": [],
   "source": [
    "# split으로 나눈 값(list형식으로 인식)[0]을 expand로 dataframe 형태로 반환할 수 있음\n",
    "# $ 표시를 인식하기 위해서는 \\(역슬래쉬)를 사용해야 한다.\n",
    "#q24_count[\"min\"] = q24_count[\"range\"].str.split(\"-\", expand=True)[0]"
   ]
  },
  {
   "cell_type": "code",
   "execution_count": null,
   "id": "5ae47409",
   "metadata": {},
   "outputs": [],
   "source": []
  }
 ],
 "metadata": {
  "kernelspec": {
   "display_name": "Python 3 (ipykernel)",
   "language": "python",
   "name": "python3"
  },
  "language_info": {
   "codemirror_mode": {
    "name": "ipython",
    "version": 3
   },
   "file_extension": ".py",
   "mimetype": "text/x-python",
   "name": "python",
   "nbconvert_exporter": "python",
   "pygments_lexer": "ipython3",
   "version": "3.8.13"
  },
  "toc": {
   "base_numbering": 1,
   "nav_menu": {},
   "number_sections": true,
   "sideBar": true,
   "skip_h1_title": false,
   "title_cell": "Table of Contents",
   "title_sidebar": "Contents",
   "toc_cell": false,
   "toc_position": {},
   "toc_section_display": true,
   "toc_window_display": false
  }
 },
 "nbformat": 4,
 "nbformat_minor": 5
}
