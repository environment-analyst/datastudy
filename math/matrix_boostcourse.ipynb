{
 "cells": [
  {
   "cell_type": "code",
   "execution_count": 2,
   "id": "e59729e2",
   "metadata": {},
   "outputs": [
    {
     "name": "stdout",
     "output_type": "stream",
     "text": [
      "Requirement already satisfied: IPython in c:\\users\\lg\\miniconda3\\lib\\site-packages (8.3.0)\n",
      "Requirement already satisfied: prompt-toolkit!=3.0.0,!=3.0.1,<3.1.0,>=2.0.0 in c:\\users\\lg\\miniconda3\\lib\\site-packages (from IPython) (3.0.20)\n",
      "Requirement already satisfied: traitlets>=5 in c:\\users\\lg\\miniconda3\\lib\\site-packages (from IPython) (5.1.1)\n",
      "Requirement already satisfied: pygments>=2.4.0 in c:\\users\\lg\\miniconda3\\lib\\site-packages (from IPython) (2.11.2)\n",
      "Requirement already satisfied: matplotlib-inline in c:\\users\\lg\\miniconda3\\lib\\site-packages (from IPython) (0.1.2)\n",
      "Requirement already satisfied: decorator in c:\\users\\lg\\miniconda3\\lib\\site-packages (from IPython) (5.1.1)\n",
      "Requirement already satisfied: setuptools>=18.5 in c:\\users\\lg\\miniconda3\\lib\\site-packages (from IPython) (63.4.2)\n",
      "Requirement already satisfied: backcall in c:\\users\\lg\\miniconda3\\lib\\site-packages (from IPython) (0.2.0)\n",
      "Requirement already satisfied: jedi>=0.16 in c:\\users\\lg\\miniconda3\\lib\\site-packages (from IPython) (0.18.1)\n",
      "Requirement already satisfied: stack-data in c:\\users\\lg\\miniconda3\\lib\\site-packages (from IPython) (0.2.0)\n",
      "Requirement already satisfied: pickleshare in c:\\users\\lg\\miniconda3\\lib\\site-packages (from IPython) (0.7.5)\n",
      "Requirement already satisfied: colorama in c:\\users\\lg\\miniconda3\\lib\\site-packages (from IPython) (0.4.4)\n",
      "Requirement already satisfied: parso<0.9.0,>=0.8.0 in c:\\users\\lg\\miniconda3\\lib\\site-packages (from jedi>=0.16->IPython) (0.8.3)\n",
      "Requirement already satisfied: wcwidth in c:\\users\\lg\\miniconda3\\lib\\site-packages (from prompt-toolkit!=3.0.0,!=3.0.1,<3.1.0,>=2.0.0->IPython) (0.2.5)\n",
      "Requirement already satisfied: asttokens in c:\\users\\lg\\miniconda3\\lib\\site-packages (from stack-data->IPython) (2.0.5)\n",
      "Requirement already satisfied: executing in c:\\users\\lg\\miniconda3\\lib\\site-packages (from stack-data->IPython) (0.8.3)\n",
      "Requirement already satisfied: pure-eval in c:\\users\\lg\\miniconda3\\lib\\site-packages (from stack-data->IPython) (0.2.2)\n",
      "Requirement already satisfied: six in c:\\users\\lg\\miniconda3\\lib\\site-packages (from asttokens->stack-data->IPython) (1.16.0)\n"
     ]
    }
   ],
   "source": [
    "# !pip install IPython"
   ]
  },
  {
   "cell_type": "code",
   "execution_count": 3,
   "id": "82170a62",
   "metadata": {},
   "outputs": [],
   "source": [
    "from IPython.display import Image"
   ]
  },
  {
   "cell_type": "markdown",
   "id": "2e9c7458",
   "metadata": {},
   "source": [
    "numpy에서 행렬\n",
    "\n",
    "numpy에서 행렬\n",
    "\n",
    "import numpy as np\n",
    "\n",
    "np.array이를 통해서 행렬을 만들어서 저장\n",
    "\n",
    "@ : 행렬의 곱셈을 나타냄\n",
    "\n",
    "np.inner : 행렬의 내적 , i번째 행벡터와 j번재 행벡터 사이의 내적(수학에서 말하는 내적과 다름!!!)\n",
    "\n",
    "역행렬 : 행과 열 숫자가 같고 행렬식(determinant)이 아닌 경우에만 계산할 수 있음\n",
    "\n",
    "numpy.linalg.inv 로 역행렬을 구할 수 있음\n",
    "\n",
    "\n",
    "유사역행렬: numpy.linalg.pinv 로 구할 수 있음 -> 이걸 이용하면 선형모델로 해석하는 선형회귀식을 찾을 수 있음\n",
    "-> 최소제곱해 개념인듯\n",
    "\n",
    ">유사역행렬은 행과 열이 같이 않아도 사용할 수 있다(무어-펜로즈 역행렬도 마찬가지)\n",
    "\n",
    ">단, n*m행렬에서\n",
    ">n>=m 인 경우와\n",
    ">n<=m인 경우가 다름(정리!!)\n"
   ]
  },
  {
   "cell_type": "markdown",
   "id": "3e881f6c",
   "metadata": {},
   "source": [
    "![Moore-Penrose Matrix](Moore_Penrose_matrix.jpg)"
   ]
  },
  {
   "cell_type": "markdown",
   "id": "cc52011d",
   "metadata": {},
   "source": [
    "# sklearn의 LinearRegression"
   ]
  },
  {
   "cell_type": "code",
   "execution_count": 5,
   "id": "fdf158ca",
   "metadata": {},
   "outputs": [
    {
     "ename": "NameError",
     "evalue": "name 'x' is not defined",
     "output_type": "error",
     "traceback": [
      "\u001b[1;31m---------------------------------------------------------------------------\u001b[0m",
      "\u001b[1;31mNameError\u001b[0m                                 Traceback (most recent call last)",
      "Input \u001b[1;32mIn [5]\u001b[0m, in \u001b[0;36m<cell line: 5>\u001b[1;34m()\u001b[0m\n\u001b[0;32m      3\u001b[0m \u001b[38;5;28;01mfrom\u001b[39;00m \u001b[38;5;21;01msklearn\u001b[39;00m\u001b[38;5;21;01m.\u001b[39;00m\u001b[38;5;21;01mlinear_model\u001b[39;00m \u001b[38;5;28;01mimport\u001b[39;00m LinearRegression\n\u001b[0;32m      4\u001b[0m model \u001b[38;5;241m=\u001b[39m LinearRegression()\n\u001b[1;32m----> 5\u001b[0m model\u001b[38;5;241m.\u001b[39mfit(\u001b[43mx\u001b[49m,y)\n\u001b[0;32m      6\u001b[0m y_test \u001b[38;5;241m=\u001b[39m model\u001b[38;5;241m.\u001b[39mpredict(x,y)\n\u001b[0;32m      8\u001b[0m \u001b[38;5;66;03m#Moore_penrose역행렬\u001b[39;00m\n",
      "\u001b[1;31mNameError\u001b[0m: name 'x' is not defined"
     ]
    }
   ],
   "source": [
    "\n",
    "# Scikit Learn을 활용한 회귀분석\n",
    "\n",
    "from sklearn.linear_model import LinearRegression\n",
    "model = LinearRegression()\n",
    "model.fit(x,y)\n",
    "y_test = model.predict(x,y)\n",
    "\n",
    "#Moore_penrose역행렬\n",
    "x_=np.array([np.append(x,[1]) for x in x]) #무어펜로즈행렬은 y절편항을 직접 추가해야함\n",
    "beta = np.linalg.pinv(x_) @ y\n",
    "y_test = np.append(x, [1]) @ beta"
   ]
  },
  {
   "cell_type": "code",
   "execution_count": null,
   "id": "fe1f36ff",
   "metadata": {},
   "outputs": [],
   "source": []
  }
 ],
 "metadata": {
  "kernelspec": {
   "display_name": "Python 3 (ipykernel)",
   "language": "python",
   "name": "python3"
  },
  "language_info": {
   "codemirror_mode": {
    "name": "ipython",
    "version": 3
   },
   "file_extension": ".py",
   "mimetype": "text/x-python",
   "name": "python",
   "nbconvert_exporter": "python",
   "pygments_lexer": "ipython3",
   "version": "3.8.13"
  },
  "toc": {
   "base_numbering": 1,
   "nav_menu": {},
   "number_sections": true,
   "sideBar": true,
   "skip_h1_title": false,
   "title_cell": "Table of Contents",
   "title_sidebar": "Contents",
   "toc_cell": false,
   "toc_position": {},
   "toc_section_display": true,
   "toc_window_display": false
  }
 },
 "nbformat": 4,
 "nbformat_minor": 5
}
