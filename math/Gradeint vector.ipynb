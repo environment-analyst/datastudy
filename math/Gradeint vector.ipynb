{
 "cells": [
  {
   "cell_type": "markdown",
   "id": "3d1f40cd",
   "metadata": {},
   "source": [
    "# 미분\n",
    "\n",
    "> 변수의 움직임에 따른 함수값의 변화를 측정하기 위한 도구</br>\n",
    "> 최적화에서 제일 많이 사용하는 기법</br>\n",
    "> 변화율의 극한\n",
    "```\n",
    "import sympy as sym # 미분을 sympy.diff로 구할 수 있다\n",
    "```\n",
    "> 미분값을 더해주게 되면 함수를 최대화 할 수 있음->경사상승</br>\n",
    "> 미분값을 빼주게 되면 함수를 최소화 할 수 있음-> 경사하강</br>\n",
    "\n",
    "> 극값에서 미분값이 0이므로 더 이상 없데이트가 되지 않는다.</br>\n",
    "그러므로 목적함수 최적화가 자동으로 끝난다\n"
   ]
  },
  {
   "cell_type": "markdown",
   "id": "8c2e5b8a",
   "metadata": {},
   "source": [
    "# 경사하강법\n",
    "\n",
    "* 경사하강법: 알고리즘(다항식)\n",
    "\n",
    "```\n",
    "Input:gradient, init, lr, eps. Output : var\n",
    "\n",
    "# gradient : 미분을 계산하는 함수\n",
    "# init : 시작점, lr: 학습률, eps:알고리즘 종료조건\n",
    "\n",
    "var = init\n",
    "grad = gradient(var)\n",
    "while(abs(grad) > eps):\n",
    "    var = var - lr * grad \n",
    "    # 학습률은 매우 조심스럽게 다루어야함-> 학습률을 통해 미분업데이트 속도를 조절\n",
    "    grad = gradient(var)\n",
    "```"
   ]
  },
  {
   "cell_type": "markdown",
   "id": "0900c0c2",
   "metadata": {},
   "source": [
    "* 경사하강법: 알고리즘(다변수(벡터))\n",
    "\n",
    "```\n",
    "Input : gradient, init, lr, eps, Output: var\n",
    "\n",
    "# gradient: *그레디언트* 벡터를 계산하는 함수\n",
    "# init: 시작점, lr: 학습률, eps:알고리즘 종료조건\n",
    "\n",
    "var = init\n",
    "grad = gradient(var)\n",
    "while(norm(grad) > eps):\n",
    "# 벡터는 절대값 댄시 노름(norm)을 계산해서 종료조건을 설정\n",
    "    var = var - lr * grad\n",
    "    grad = gradient(var)\n",
    "```\n"
   ]
  },
  {
   "cell_type": "code",
   "execution_count": null,
   "id": "48b27a9b",
   "metadata": {},
   "outputs": [],
   "source": []
  }
 ],
 "metadata": {
  "kernelspec": {
   "display_name": "Python 3 (ipykernel)",
   "language": "python",
   "name": "python3"
  },
  "language_info": {
   "codemirror_mode": {
    "name": "ipython",
    "version": 3
   },
   "file_extension": ".py",
   "mimetype": "text/x-python",
   "name": "python",
   "nbconvert_exporter": "python",
   "pygments_lexer": "ipython3",
   "version": "3.8.13"
  },
  "toc": {
   "base_numbering": 1,
   "nav_menu": {},
   "number_sections": true,
   "sideBar": true,
   "skip_h1_title": false,
   "title_cell": "Table of Contents",
   "title_sidebar": "Contents",
   "toc_cell": false,
   "toc_position": {},
   "toc_section_display": true,
   "toc_window_display": false
  }
 },
 "nbformat": 4,
 "nbformat_minor": 5
}
