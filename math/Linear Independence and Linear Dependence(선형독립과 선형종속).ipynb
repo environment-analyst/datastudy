{
 "cells": [
  {
   "cell_type": "markdown",
   "id": "2162b1cd",
   "metadata": {},
   "source": [
    "# 선형독립과 선형종속(선형의존)\n",
    "\n",
    "## 선형의존일 경우 솔루션은 많이 존재한다\n",
    "\n",
    "## 선형독립일 경우 솔루션은 하나만 존재함"
   ]
  },
  {
   "cell_type": "code",
   "execution_count": null,
   "id": "810bd4ec",
   "metadata": {},
   "outputs": [],
   "source": [
    "# homogeneous equation\n",
    "\n",
    "# trivial solustion : 모두가 다 영벡터인 값\n",
    "\n",
    "# trivial solusiton 이 외의 다른 솔루션이 존재하게 되면 선형의존임\n",
    "# 위의 경우와 반대로 trivial solution만 있으면 선형독립임\n",
    "\n"
   ]
  }
 ],
 "metadata": {
  "kernelspec": {
   "display_name": "Python 3 (ipykernel)",
   "language": "python",
   "name": "python3"
  },
  "language_info": {
   "codemirror_mode": {
    "name": "ipython",
    "version": 3
   },
   "file_extension": ".py",
   "mimetype": "text/x-python",
   "name": "python",
   "nbconvert_exporter": "python",
   "pygments_lexer": "ipython3",
   "version": "3.8.13"
  },
  "toc": {
   "base_numbering": 1,
   "nav_menu": {},
   "number_sections": true,
   "sideBar": true,
   "skip_h1_title": false,
   "title_cell": "Table of Contents",
   "title_sidebar": "Contents",
   "toc_cell": false,
   "toc_position": {},
   "toc_section_display": true,
   "toc_window_display": false
  }
 },
 "nbformat": 4,
 "nbformat_minor": 5
}
