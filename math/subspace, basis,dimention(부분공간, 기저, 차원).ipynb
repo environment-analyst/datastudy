{
 "cells": [
  {
   "cell_type": "markdown",
   "id": "bbcf4380",
   "metadata": {},
   "source": [
    "# subspace\n",
    "\n",
    "### subsapce는 span이라는 개념과 유사\n",
    "\n",
    "\n",
    "# basis(기저벡터)\n",
    "\n",
    ">기저벡터는 중복을 허용하지 않는다.\n",
    "> 기저벡터들의 선형결합으로 표현할때, 가중치는 오직하나로만 표현할 수 있음 -> 선형독립임\n",
    ">기저벡터가 달라지면 가중치(좌표값)이 달라진다\n",
    "\n",
    "# dimention(차원)\n",
    "\n",
    "\n",
    "# rank\n",
    ">컬럼벡터들의 차원이 rank다\n",
    "\n"
   ]
  },
  {
   "cell_type": "code",
   "execution_count": null,
   "id": "4bfcf385",
   "metadata": {},
   "outputs": [],
   "source": []
  }
 ],
 "metadata": {
  "kernelspec": {
   "display_name": "Python 3 (ipykernel)",
   "language": "python",
   "name": "python3"
  },
  "language_info": {
   "codemirror_mode": {
    "name": "ipython",
    "version": 3
   },
   "file_extension": ".py",
   "mimetype": "text/x-python",
   "name": "python",
   "nbconvert_exporter": "python",
   "pygments_lexer": "ipython3",
   "version": "3.8.13"
  },
  "toc": {
   "base_numbering": 1,
   "nav_menu": {},
   "number_sections": true,
   "sideBar": true,
   "skip_h1_title": false,
   "title_cell": "Table of Contents",
   "title_sidebar": "Contents",
   "toc_cell": false,
   "toc_position": {},
   "toc_section_display": true,
   "toc_window_display": false
  }
 },
 "nbformat": 4,
 "nbformat_minor": 5
}
