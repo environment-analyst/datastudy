{
 "cells": [
  {
   "cell_type": "markdown",
   "id": "a62eeab6",
   "metadata": {},
   "source": [
    "# Data\n",
    "\n",
    "\n",
    "\n"
   ]
  },
  {
   "cell_type": "markdown",
   "id": "4a3c2be9",
   "metadata": {},
   "source": [
    "# Model"
   ]
  },
  {
   "cell_type": "markdown",
   "id": "1e235bb3",
   "metadata": {},
   "source": [
    "# Loss"
   ]
  },
  {
   "cell_type": "markdown",
   "id": "3d8f6028",
   "metadata": {},
   "source": [
    "# Optimization alrithms"
   ]
  },
  {
   "cell_type": "markdown",
   "id": "d9f626b2",
   "metadata": {},
   "source": [
    "# "
   ]
  },
  {
   "cell_type": "markdown",
   "id": "d40bc0a4",
   "metadata": {},
   "source": [
    "역전파 (backpropagation)\n",
    "affine transformation\n",
    "nonlinear transformation\n",
    "\n",
    "\n",
    " \n",
    "\n",
    "\n",
    "Gradient ascent 극대화\n",
    "gradient descent 극소화\n",
    "\n",
    "\n",
    " \n",
    "\n",
    "\n",
    "grandient\n",
    "함수 f의 편미분으로 이루어진 벡터\n",
    "함수 f의 값이 가장 크게 변화하는 방향을 나타냄\n",
    "크기는 변화의 정도(기울기)를 나타냄\n",
    "\n",
    "\n",
    " \n",
    "\n",
    "\n",
    "Gradient ascent 극대화\n",
    "gradient descent 극소화\n",
    "\n",
    "\n",
    " \n",
    "\n",
    "\n",
    "\n",
    "optimum에 도달했는지를 알려준다 (grad f = 0)\n",
    "\n",
    "\n",
    " \n",
    "\n",
    "\n",
    "\n",
    "optimizer 최적화\n",
    "\n",
    "\n",
    " \n",
    "\n",
    "\n",
    "\n",
    "Bias and Variance\n",
    "(편향과 분산)\n",
    "\n",
    "\n",
    " \n",
    "\n",
    "\n",
    "activation function\n",
    "\n",
    "\n",
    " \n",
    "\n",
    "\n",
    "hidden layer\n",
    "신경망에서 입력 레이어(특성)와 출력 레이어(예측) 사이에 위치하는 합성 레이어\n",
    "\n",
    "\n",
    " \n",
    "\n",
    "\n",
    "minimize 최소로 하다\n",
    "confidence\n",
    "극단치(outlier)\n",
    "통계적 자료분석의 결과를 왜곡시키거나, 자료 분석의 적절성을 위협하는 변수값 또는 사례를 말한다\n",
    "\n",
    "\n",
    " \n",
    "\n",
    "\n",
    "target data\n",
    "\n",
    "\n",
    " \n",
    "\n",
    "\n",
    "Dimension\n",
    "차원\n",
    "\n",
    "\n",
    " \n",
    "\n",
    "\n",
    "accuracy\n",
    "정확, 정밀\n",
    "\n",
    "\n",
    " \n",
    "\n",
    "\n",
    "Cross Entropy\n",
    "정보 이론에서 교차 엔트로피란, 두 확률 분포 p 와 q를 구분하기 위해 필요한 평균 비트 수를 의미한다."
   ]
  },
  {
   "cell_type": "code",
   "execution_count": null,
   "id": "028c6eb8",
   "metadata": {},
   "outputs": [],
   "source": []
  }
 ],
 "metadata": {
  "kernelspec": {
   "display_name": "Python 3 (ipykernel)",
   "language": "python",
   "name": "python3"
  },
  "language_info": {
   "codemirror_mode": {
    "name": "ipython",
    "version": 3
   },
   "file_extension": ".py",
   "mimetype": "text/x-python",
   "name": "python",
   "nbconvert_exporter": "python",
   "pygments_lexer": "ipython3",
   "version": "3.8.13"
  },
  "toc": {
   "base_numbering": 1,
   "nav_menu": {},
   "number_sections": true,
   "sideBar": true,
   "skip_h1_title": false,
   "title_cell": "Table of Contents",
   "title_sidebar": "Contents",
   "toc_cell": false,
   "toc_position": {},
   "toc_section_display": true,
   "toc_window_display": false
  }
 },
 "nbformat": 4,
 "nbformat_minor": 5
}
