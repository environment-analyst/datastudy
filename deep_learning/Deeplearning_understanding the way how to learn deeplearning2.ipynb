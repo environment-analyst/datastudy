{
 "cells": [
  {
   "cell_type": "markdown",
   "id": "ee3f8062",
   "metadata": {},
   "source": [
    "# 비선형 모델인 신경망"
   ]
  },
  {
   "cell_type": "markdown",
   "id": "a33bc6dd",
   "metadata": {},
   "source": [
    "## softmax\n",
    "\n",
    "* softmax 함수는 모델의 출력을 확률로 해석할 수 있게 변환해 주는 연산\n",
    "\n",
    "* 분류 문제를 풀때 선형모델과 소프트맥스 함수를 결합하여 예측함\n",
    "\n",
    "    **softmax(o) = softmax(Wx+b)**\n",
    "    \n",
    "    ```python\n",
    "\n",
    "    def softmax(vec):\n",
    "        denumerator = np.exp(vec = np.max(vec, axis=-1, keepdims = True)) # 너무 큰 연산이 들어오게 되면 overflow가 발생할 수 있어서\n",
    "        numerator = np.sum(denumerator, axis=-1, keepdims = True)\n",
    "        val = denumerator /numerator\n",
    "        return val\n",
    "\n",
    "    vec = np.array([[1,2,0],[-1,0,1],[-10,0,10]])\n",
    "    sofrmax(vec)\n",
    "    \n",
    "    ```\n",
    "    \n",
    "* **추론**을 할 때는 **원-핫(one hot) 벡터**로 최대값을 가진 주소만 1로 출력하는 연산을 사용해서 softmax를 사용하진 않습니다.\n",
    "\n",
    "* **학습**을 할 때는 **sofrmax**를 사용하지만, 추론을 할때는 softmax를 사용하지 않는다.\n"
   ]
  },
  {
   "cell_type": "markdown",
   "id": "f878b112",
   "metadata": {},
   "source": [
    "## 활성함수\n",
    "\n",
    "* 신경망: 선형모델과 활성함수릃 합성한 함수\n",
    "\n",
    "* 다층퍼셉트론(MLP) : 신경망이 여러층 합성된 함수\n",
    "\n",
    "* 활성함수는 R위에 정의된 비선형 함수로서 딥러닝에서 매우 중요한 개념\n",
    "\n",
    "* 활성함수를 쓰지 않으면 딥러닝은 선형모델과 차이가 없다\n",
    "\n",
    "* 대표적인 활성함수 : sigmoid(시그모이드), 하이퍼탄젠트(tanh), ReLU함수\n",
    "\n",
    "* 순차적인 신경망 계산을 순전파(forward propagation)라 부름\n"
   ]
  },
  {
   "cell_type": "markdown",
   "id": "0f3a0dfe",
   "metadata": {},
   "source": [
    "## 역전파 알고리즘\n",
    "\n",
    "* 딥러닝은 역전파(backprogagation) 알고리즘을 이용하여 각 층에 사용된 패러미터를 학습함\n",
    "\n",
    "* 역전파 알고리즘은 합성함수 미분법인 연쇄법칙(chain-rule) 기반 자동미분(auto-differentiation)을 사용함\n",
    "\n"
   ]
  },
  {
   "cell_type": "code",
   "execution_count": null,
   "id": "ee0cee65",
   "metadata": {},
   "outputs": [],
   "source": []
  }
 ],
 "metadata": {
  "kernelspec": {
   "display_name": "Python 3 (ipykernel)",
   "language": "python",
   "name": "python3"
  },
  "language_info": {
   "codemirror_mode": {
    "name": "ipython",
    "version": 3
   },
   "file_extension": ".py",
   "mimetype": "text/x-python",
   "name": "python",
   "nbconvert_exporter": "python",
   "pygments_lexer": "ipython3",
   "version": "3.8.13"
  },
  "toc": {
   "base_numbering": 1,
   "nav_menu": {},
   "number_sections": true,
   "sideBar": true,
   "skip_h1_title": false,
   "title_cell": "Table of Contents",
   "title_sidebar": "Contents",
   "toc_cell": false,
   "toc_position": {},
   "toc_section_display": true,
   "toc_window_display": false
  }
 },
 "nbformat": 4,
 "nbformat_minor": 5
}
