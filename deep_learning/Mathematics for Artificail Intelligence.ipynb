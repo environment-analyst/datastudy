{
 "cells": [
  {
   "cell_type": "code",
   "execution_count": 1,
   "id": "3838a94a",
   "metadata": {},
   "outputs": [],
   "source": [
    "# from IPython.display import Image"
   ]
  },
  {
   "cell_type": "markdown",
   "id": "4d8836fb",
   "metadata": {},
   "source": [
    "# 베이즈 통계학\n",
    "\n",
    "* 베이즈 정리: 데이터가 새로 추가되었을 때 저보를 업데이트 하는 방식\n",
    "\n",
    "\n",
    "* 오늘날 머신러닝에 사용되는 **예측모형**의 방법론으로 굉장히 많이 사용되는 개념\n",
    "\n",
    "1. 사전확률\n",
    "\n",
    "2. 사후확률\n",
    "\n",
    "3. evidence"
   ]
  },
  {
   "cell_type": "markdown",
   "id": "6ec00cee",
   "metadata": {},
   "source": [
    "## 조건부 확률\n",
    "\n",
    "* 베이즈 통계학을 이해하기 위해선 조건부확률의 개념을 이해해야 합니다.\n",
    "\n",
    "\n",
    "* 베이즈 정리는 조건부 확률을 이용하여 **정보를 갱신하는 방법**을 알려줌\n",
    "\n",
    "![조건부확률](conditional.jpg)\n",
    "\n",
    "1. D : 새로 관찰하는 데이터\n",
    "2. 세타: 모델에서 관찰하고 싶어하는 파라미터, 모수\n",
    "3. 사후확률: 이 데이터를 관찰했을 때, 이 파라미터가 성립할 확률 -> 데이터를 측저하는 확률이기 때문에 그럼\n",
    "4. 사전확률: 세타에 대한 사전에 주어진 확률, 모델에 대한 가설을 성립하기 위해 이전에 세워둔 가설 확률\n",
    "5. likelihood(가능도) : 현재 주어진 이 데이터가 관찰될 확률\n",
    "6. Evidence: 데이터 전체의 분포\n",
    "\n",
    "**Likelihood와 Evidence를 통해서 사전확률을 사후확률로 업데이트함**"
   ]
  },
  {
   "cell_type": "markdown",
   "id": "b7e4708c",
   "metadata": {},
   "source": [
    "## 베이즈 정리: 예제\n",
    "\n",
    "* COVID-99의 **발병률이10%** 로알려져있다. COVID-99에 실제로 걸렸을 때, **검진될확률은99%**,실제로 걸리지 않았을 때**오검진될 확률이1%** 라고 할때,어떤 사람이 질병에 걸렸다고 검진결과가 나왔을 때 정말로 COVID99에 감염되었을 확률은?\n",
    "\n",
    "\n",
    "![조건부확률2](conditional_2.jpg)\n",
    "\n",
    "**오탐률(False alarm)이 오르면 테스트의 정밀도(Precision)가 떨어진다**\n",
    "\n",
    "**데이터의 종류의 따라서 1종 오류를 줄이는게 중요할 지, 2종 오류를 줄이는게 중요할 지가 달라진다**\n",
    "\n",
    "ex) 암 환자 진단 -> 1종 오류 : 의료 문제에서 매우 중요함\n",
    "\n",
    "**베이즈 통계가 좋은 이유는 데이터를 업데이트 할 수 있다는 점이다**"
   ]
  },
  {
   "cell_type": "markdown",
   "id": "17552e77",
   "metadata": {},
   "source": [
    "# 인과관계\n",
    "\n",
    "* 조건부 확률은 유용한 통계적 해석을 제공하지만 **인과관계(casuality)** 를 추론할 때 함부로 사용해서는 **안 됩니다.** -> 데이터가 많아져도 조건부 확률만 가지고 인과관계를 추론하는 것은 **불가능**하다.\n",
    "\n",
    "\n",
    "* 인과관계는 **데이터 분포의 변화에 강건한 예측모형**을 만들 때 필요\n",
    "\n",
    "\n",
    "* 인과관계를 알아내기 위해서는 **중첩요인(confounding factor)의 효과를 제거**하고 원인에 해당하는 변수만의 인과관계를 계산 -> ex) 키가 클수록 지능지수가 높다: 모델값 : TRUE -> 이유: 연령에 따라서 키가 달라지기 때문: 어린아이 키 작음, 어른 키 큼(연령이 중첩요인이 됨)\n"
   ]
  },
  {
   "cell_type": "code",
   "execution_count": null,
   "id": "7e838c16",
   "metadata": {},
   "outputs": [],
   "source": []
  }
 ],
 "metadata": {
  "kernelspec": {
   "display_name": "Python 3 (ipykernel)",
   "language": "python",
   "name": "python3"
  },
  "language_info": {
   "codemirror_mode": {
    "name": "ipython",
    "version": 3
   },
   "file_extension": ".py",
   "mimetype": "text/x-python",
   "name": "python",
   "nbconvert_exporter": "python",
   "pygments_lexer": "ipython3",
   "version": "3.8.13"
  },
  "toc": {
   "base_numbering": 1,
   "nav_menu": {},
   "number_sections": true,
   "sideBar": true,
   "skip_h1_title": false,
   "title_cell": "Table of Contents",
   "title_sidebar": "Contents",
   "toc_cell": false,
   "toc_position": {},
   "toc_section_display": true,
   "toc_window_display": false
  }
 },
 "nbformat": 4,
 "nbformat_minor": 5
}
